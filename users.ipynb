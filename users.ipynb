{
 "cells": [
  {
   "cell_type": "code",
   "execution_count": 9,
   "id": "4e12c82e",
   "metadata": {},
   "outputs": [
    {
     "data": {
      "text/plain": [
       "(2, {'users.User': 2})"
      ]
     },
     "execution_count": 9,
     "metadata": {},
     "output_type": "execute_result"
    }
   ],
   "source": [
    "a = User.objects.all()\n",
    "a.delete()"
   ]
  },
  {
   "cell_type": "code",
   "execution_count": 5,
   "id": "949969a9",
   "metadata": {},
   "outputs": [
    {
     "data": {
      "text/plain": [
       "'!QCAFqGcBOzkgXTh9MDenFdcnT6yuesMjhFRgjmw8'"
      ]
     },
     "execution_count": 5,
     "metadata": {},
     "output_type": "execute_result"
    }
   ],
   "source": []
  },
  {
   "cell_type": "code",
   "execution_count": 10,
   "id": "5446c56b",
   "metadata": {},
   "outputs": [],
   "source": [
    "b = AdminUser.objects.create_admin(\n",
    "                    email = 'baridzi@gmail.com',\n",
    "                    username = 'bash',\n",
    "                    gender = 'MALE',\n",
    "                    first_name = 'BARIDZI',\n",
    "                    middle_name = 'BASH',\n",
    "                    last_name ='MOYO',\n",
    "                    password='celumusa'\n",
    "                )"
   ]
  },
  {
   "cell_type": "code",
   "execution_count": 11,
   "id": "1ded3263",
   "metadata": {},
   "outputs": [
    {
     "data": {
      "text/plain": [
       "<AdminUser: bash>"
      ]
     },
     "execution_count": 11,
     "metadata": {},
     "output_type": "execute_result"
    }
   ],
   "source": [
    "b"
   ]
  },
  {
   "cell_type": "code",
   "execution_count": 12,
   "id": "65762835",
   "metadata": {},
   "outputs": [
    {
     "data": {
      "text/plain": [
       "'pbkdf2_sha256$320000$0FNt32vjA0JFjGBtmAqjm8$BRrnMsz50N4FecLi8jdMER9aBwigjxn2DO9BoU2AxZI='"
      ]
     },
     "execution_count": 12,
     "metadata": {},
     "output_type": "execute_result"
    }
   ],
   "source": [
    "b.password"
   ]
  },
  {
   "cell_type": "code",
   "execution_count": 17,
   "id": "2221dce3",
   "metadata": {},
   "outputs": [],
   "source": [
    "a = Product.objects.filter(primary_image__isnull=True)"
   ]
  },
  {
   "cell_type": "code",
   "execution_count": 18,
   "id": "46d2c23b",
   "metadata": {},
   "outputs": [
    {
     "data": {
      "text/plain": [
       "<QuerySet []>"
      ]
     },
     "execution_count": 18,
     "metadata": {},
     "output_type": "execute_result"
    }
   ],
   "source": [
    "a"
   ]
  },
  {
   "cell_type": "code",
   "execution_count": 3,
   "id": "041bd74a",
   "metadata": {},
   "outputs": [],
   "source": [
    "b = AdminUser.objects.create_admin(\n",
    "                    email = 'nqobani@gmail.com',\n",
    "                    username = 'nqo',\n",
    "                    gender = 'MALE',\n",
    "                    first_name = 'NQOBANI',\n",
    "                    middle_name = 'N',\n",
    "                    last_name ='MPOFU',\n",
    "                    password='singwanda'\n",
    "                )"
   ]
  },
  {
   "cell_type": "code",
   "execution_count": 4,
   "id": "c06ecaf8",
   "metadata": {},
   "outputs": [
    {
     "data": {
      "text/plain": [
       "<AdminUser: nqo>"
      ]
     },
     "execution_count": 4,
     "metadata": {},
     "output_type": "execute_result"
    }
   ],
   "source": [
    "b"
   ]
  },
  {
   "cell_type": "code",
   "execution_count": null,
   "id": "b755bd30",
   "metadata": {},
   "outputs": [],
   "source": []
  }
 ],
 "metadata": {
  "kernelspec": {
   "display_name": "Django Shell-Plus",
   "language": "python",
   "name": "django_extensions"
  },
  "language_info": {
   "codemirror_mode": {
    "name": "ipython",
    "version": 3
   },
   "file_extension": ".py",
   "mimetype": "text/x-python",
   "name": "python",
   "nbconvert_exporter": "python",
   "pygments_lexer": "ipython3",
   "version": "3.9.0"
  }
 },
 "nbformat": 4,
 "nbformat_minor": 5
}
