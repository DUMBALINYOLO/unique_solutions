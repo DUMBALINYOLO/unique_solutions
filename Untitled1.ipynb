{
 "cells": [
  {
   "cell_type": "code",
   "execution_count": 1,
   "id": "98a9790e",
   "metadata": {},
   "outputs": [
    {
     "data": {
      "text/plain": [
       "<AdminUser: bash>"
      ]
     },
     "execution_count": 1,
     "metadata": {},
     "output_type": "execute_result"
    }
   ],
   "source": [
    "AdminUser.objects.create_admin(\n",
    "                    email = 'baridzi@gmail.com',\n",
    "                    username = 'bash',\n",
    "                    gender = 'MALE',\n",
    "                    first_name = 'BARIDZI',\n",
    "                    middle_name = 'M',\n",
    "                    last_name ='MOYO',\n",
    "                    password='celumusa',\n",
    "                )\n"
   ]
  },
  {
   "cell_type": "code",
   "execution_count": 4,
   "id": "3095bbd3",
   "metadata": {},
   "outputs": [
    {
     "name": "stdout",
     "output_type": "stream",
     "text": [
      "Maximillem Gosso Gosso\n"
     ]
    }
   ],
   "source": [
    "def say_myname(name, surname):\n",
    "    \n",
    "    print(name)\n",
    "    \n",
    "    \n",
    "say_myname('Maximillem Gosso Gosso', 'Moyo')"
   ]
  },
  {
   "cell_type": "code",
   "execution_count": 5,
   "id": "9cad7f61",
   "metadata": {},
   "outputs": [
    {
     "data": {
      "text/plain": [
       "<AdminUser: kudzi>"
      ]
     },
     "execution_count": 5,
     "metadata": {},
     "output_type": "execute_result"
    }
   ],
   "source": [
    "AdminUser.objects.create_admin(\n",
    "                    email = 'kudzai@gmail.com',\n",
    "                    username = 'kudzi',\n",
    "                    gender = 'FEMALE',\n",
    "                    first_name = 'KUDZAI',\n",
    "                    middle_name = 'K',\n",
    "                    last_name ='NAGO',\n",
    "                    password='nagokudzai14'\n",
    "                )"
   ]
  },
  {
   "cell_type": "code",
   "execution_count": 6,
   "id": "328de478",
   "metadata": {},
   "outputs": [
    {
     "data": {
      "text/plain": [
       "<AdminUser: nqo>"
      ]
     },
     "execution_count": 6,
     "metadata": {},
     "output_type": "execute_result"
    }
   ],
   "source": [
    "AdminUser.objects.create_admin(\n",
    "                    email = 'nqobani@gmail.com',\n",
    "                    username = 'nqo',\n",
    "                    gender = 'MALE',\n",
    "                    first_name = 'NQOBANI',\n",
    "                    middle_name = 'N',\n",
    "                    last_name ='MPOFU',\n",
    "                    password='singwanda'\n",
    "                )"
   ]
  },
  {
   "cell_type": "code",
   "execution_count": null,
   "id": "9e7b736e",
   "metadata": {},
   "outputs": [],
   "source": []
  }
 ],
 "metadata": {
  "kernelspec": {
   "display_name": "Django Shell-Plus",
   "language": "python",
   "name": "django_extensions"
  },
  "language_info": {
   "codemirror_mode": {
    "name": "ipython",
    "version": 3
   },
   "file_extension": ".py",
   "mimetype": "text/x-python",
   "name": "python",
   "nbconvert_exporter": "python",
   "pygments_lexer": "ipython3",
   "version": "3.9.0"
  }
 },
 "nbformat": 4,
 "nbformat_minor": 5
}
