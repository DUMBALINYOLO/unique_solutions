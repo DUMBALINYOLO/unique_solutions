{
 "cells": [
  {
   "cell_type": "code",
   "execution_count": null,
   "id": "77a89559",
   "metadata": {},
   "outputs": [],
   "source": [
    "AdminUser.objects.create_admin(\n",
    "                    email = 'your email',\n",
    "                    username = 'your username',\n",
    "                    gender = 'your gender',\n",
    "                    first_name = 'your firstname',\n",
    "                    middle_name = 'your middle name',\n",
    "                    last_name ='your lastname',\n",
    "                    password='your password'\n",
    "                )"
   ]
  }
 ],
 "metadata": {
  "kernelspec": {
   "display_name": "Django Shell-Plus",
   "language": "python",
   "name": "django_extensions"
  },
  "language_info": {
   "codemirror_mode": {
    "name": "ipython",
    "version": 3
   },
   "file_extension": ".py",
   "mimetype": "text/x-python",
   "name": "python",
   "nbconvert_exporter": "python",
   "pygments_lexer": "ipython3",
   "version": "3.9.0"
  }
 },
 "nbformat": 4,
 "nbformat_minor": 5
}
