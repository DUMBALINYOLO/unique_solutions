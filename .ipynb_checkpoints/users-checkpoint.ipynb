{
 "cells": [
  {
   "cell_type": "code",
   "execution_count": 1,
   "id": "4e12c82e",
   "metadata": {},
   "outputs": [],
   "source": [
    "a = User.objects.all()"
   ]
  },
  {
   "cell_type": "code",
   "execution_count": 2,
   "id": "949969a9",
   "metadata": {},
   "outputs": [
    {
     "data": {
      "text/plain": [
       "<QuerySet []>"
      ]
     },
     "execution_count": 2,
     "metadata": {},
     "output_type": "execute_result"
    }
   ],
   "source": [
    "a"
   ]
  },
  {
   "cell_type": "code",
   "execution_count": 5,
   "id": "5446c56b",
   "metadata": {},
   "outputs": [],
   "source": [
    "b = AdminUser.objects.create_admin(\n",
    "                    email = 'baridzi@gmail.com',\n",
    "                    username = 'bash',\n",
    "                    gender = 'MALE',\n",
    "                    first_name = 'BARIDZI',\n",
    "                    middle_name = 'BASH',\n",
    "                    last_name ='MOYO',\n",
    "                    password='celumusa'\n",
    "                )"
   ]
  },
  {
   "cell_type": "code",
   "execution_count": 6,
   "id": "1ded3263",
   "metadata": {},
   "outputs": [
    {
     "data": {
      "text/plain": [
       "<AdminUser: bash>"
      ]
     },
     "execution_count": 6,
     "metadata": {},
     "output_type": "execute_result"
    }
   ],
   "source": [
    "b"
   ]
  },
  {
   "cell_type": "code",
   "execution_count": 7,
   "id": "65762835",
   "metadata": {},
   "outputs": [
    {
     "data": {
      "text/plain": [
       "'pbkdf2_sha256$320000$lRd5HuhqzYTjxC7YlwfVaG$q8bGexoHr1eTl6ijAKbxvco2SBLJR/CVi+c1KxBfHCI='"
      ]
     },
     "execution_count": 7,
     "metadata": {},
     "output_type": "execute_result"
    }
   ],
   "source": [
    "b.password"
   ]
  },
  {
   "cell_type": "code",
   "execution_count": 10,
   "id": "2221dce3",
   "metadata": {},
   "outputs": [],
   "source": [
    "a = Service.objects.filter(primary_image__isnull=True)"
   ]
  },
  {
   "cell_type": "code",
   "execution_count": 11,
   "id": "46d2c23b",
   "metadata": {},
   "outputs": [
    {
     "data": {
      "text/plain": [
       "<QuerySet []>"
      ]
     },
     "execution_count": 11,
     "metadata": {},
     "output_type": "execute_result"
    }
   ],
   "source": [
    "a"
   ]
  },
  {
   "cell_type": "code",
   "execution_count": null,
   "id": "041bd74a",
   "metadata": {},
   "outputs": [],
   "source": []
  }
 ],
 "metadata": {
  "kernelspec": {
   "display_name": "Django Shell-Plus",
   "language": "python",
   "name": "django_extensions"
  },
  "language_info": {
   "codemirror_mode": {
    "name": "ipython",
    "version": 3
   },
   "file_extension": ".py",
   "mimetype": "text/x-python",
   "name": "python",
   "nbconvert_exporter": "python",
   "pygments_lexer": "ipython3",
   "version": "3.9.6"
  }
 },
 "nbformat": 4,
 "nbformat_minor": 5
}
